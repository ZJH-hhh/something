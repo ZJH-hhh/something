{
 "cells": [
  {
   "cell_type": "code",
   "execution_count": 2,
   "metadata": {},
   "outputs": [],
   "source": [
    "from simhash import Simhash, SimhashIndex\n",
    "from jieba import analyse\n",
    "\n",
    "import numpy as np\n",
    "import matplotlib.pyplot as plt\n",
    "import jieba\n",
    "import re\n",
    "import ast\n",
    "import json"
   ]
  },
  {
   "cell_type": "code",
   "execution_count": 3,
   "metadata": {},
   "outputs": [],
   "source": [
    "def get_dataA(len):\n",
    "    with open('data.json', 'r', encoding = 'UTF-8') as f:\n",
    "        text = f.read()\n",
    "        text_list = jieba.cut_for_search(text)\n",
    "\n",
    "    # 去除停用词\n",
    "    analyse.set_stop_words('StopWords.txt')\n",
    "\n",
    "    # 基于TF-IDF算法进行关键词抽取\n",
    "    key_words = analyse.extract_tags(text, topK = 10000)\n",
    "\n",
    "    test = []\n",
    "    for i in range(len):\n",
    "        test.append(key_words[i])\n",
    "    return test\n",
    "\n",
    "    # 转字符串存进‘A.txt’\n",
    "    with open('A.txt', 'w', encoding = 'UTF-8') as f:\n",
    "        res = ' '.join(key_words)\n",
    "        f.write(res)"
   ]
  },
  {
   "cell_type": "code",
   "execution_count": 4,
   "metadata": {},
   "outputs": [],
   "source": [
    "def get_dataB(len):\n",
    "    with open('context.json', 'r', encoding = 'UTF-8') as f:\n",
    "        text = f.read()\n",
    "        text_list = jieba.cut_for_search(text)\n",
    "\n",
    "    analyse.set_stop_words('StopWords.txt')\n",
    "    \n",
    "    # 基于TF-IDF算法进行关键词抽取\n",
    "    key_words = analyse.extract_tags(text, topK = 10000)\n",
    "\n",
    "    test = []\n",
    "    for i in range(len):\n",
    "        test.append(key_words[i])\n",
    "    return test\n",
    "\n",
    "    with open('B.txt', 'w', encoding = 'UTF-8') as f:\n",
    "        res = ' '.join(key_words)\n",
    "        f.write(res)"
   ]
  },
  {
   "cell_type": "code",
   "execution_count": 5,
   "metadata": {},
   "outputs": [],
   "source": [
    "def get_hash(file):\n",
    "    with open(str(file), 'r', encoding = 'UTF-8') as f:\n",
    "        text = f.read()\n",
    "        res = text.split()\n",
    "    return Simhash(res)"
   ]
  },
  {
   "cell_type": "code",
   "execution_count": 7,
   "metadata": {},
   "outputs": [
    {
     "name": "stdout",
     "output_type": "stream",
     "text": [
      "海明距离： [1, 21, 41, 61, 81, 101, 121, 141, 161, 181, 201, 221, 241, 261, 281, 301, 321, 341, 361, 381, 401, 421, 441, 461, 481, 501, 521, 541, 561, 581, 601, 621, 641, 661, 681, 701, 721, 741, 761, 781, 801, 821, 841, 861, 881, 901, 921, 941, 961, 981]\n"
     ]
    },
    {
     "data": {
      "image/png": "[encoded data removed]",
      "text/plain": [
       "<Figure size 432x288 with 1 Axes>"
      ]
     },
     "metadata": {
      "needs_background": "light"
     },
     "output_type": "display_data"
    }
   ],
   "source": [
    "def main():\n",
    "    # get_dataA()\n",
    "    # get_dataB()\n",
    "\n",
    "    # hash1 = get_hash('A.txt')\n",
    "    # hash2 = get_hash('B.txt')\n",
    "    # dist = hash1.distance(hash2)\n",
    "\n",
    "    x, y = [], []\n",
    "    \n",
    "    len = 1\n",
    "    while len < 1000:\n",
    "        test1 = get_dataA(len)\n",
    "        test2 = get_dataB(len)\n",
    "        x.append(len)\n",
    "        y.append(Simhash(test1).distance(Simhash(test2)))\n",
    "        len += 20\n",
    "        \n",
    "    print('海明距离：', x)\n",
    "    \n",
    "\n",
    "    # for d in x:\n",
    "    #     print('海明距离阈值：{} 是否相似{}'.format(d, dist <= d))\n",
    "    #     isSimilar.append(dist <= d)\n",
    "\n",
    "    plt.plot(x, y, 'o-', color = 'r')\n",
    "    plt.xlabel('Hamming distance')\n",
    "    plt.ylabel('repetition rate')\n",
    "    plt.show()\n",
    "\n",
    "\n",
    "if __name__ == \"__main__\":\n",
    "    main()"
   ]
  }
 ],
 "metadata": {
  "kernelspec": {
   "display_name": "Python 3.9.7 ('base')",
   "language": "python",
   "name": "python3"
  },
  "language_info": {
   "codemirror_mode": {
    "name": "ipython",
    "version": 3
   },
   "file_extension": ".py",
   "mimetype": "text/x-python",
   "name": "python",
   "nbconvert_exporter": "python",
   "pygments_lexer": "ipython3",
   "version": "3.9.7"
  },
  "orig_nbformat": 4,
  "vscode": {
   "interpreter": {
    "hash": "88279d2366fe020547cde40dd65aa0e3aa662a6ec1f3ca12d88834876c85e1a6"
   }
  }
 },
 "nbformat": 4,
 "nbformat_minor": 2
}
